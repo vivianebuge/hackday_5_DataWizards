{
 "cells": [
  {
   "cell_type": "code",
   "execution_count": 5,
   "id": "148059e7",
   "metadata": {
    "ExecuteTime": {
     "end_time": "2023-07-15T12:37:12.334217Z",
     "start_time": "2023-07-15T12:37:12.289857Z"
    }
   },
   "outputs": [],
   "source": [
    "### Data Analisy Libraries ###\n",
    "import seaborn as sns\n",
    "import numpy as np\n",
    "from matplotlib import pyplot as plt\n",
    "%matplotlib inline\n",
    "import pandas as pd\n",
    "import inflection\n",
    "\n",
    "### Machine Learning Libraries ###\n",
    "from sklearn.model_selection import cross_val_score, cross_val_predict, KFold, cross_validate\n",
    "from sklearn.model_selection import train_test_split, GridSearchCV, RandomizedSearchCV\n",
    "from sklearn.pipeline import Pipeline\n",
    "from sklearn.preprocessing import LabelEncoder, StandardScaler, OneHotEncoder, MinMaxScaler , RobustScaler\n",
    "from sklearn.linear_model import LogisticRegression\n",
    "from sklearn.ensemble import RandomForestClassifier\n",
    "from sklearn import metrics\n",
    "\n",
    "from xgboost import XGBClassifier\n",
    "from sklearn.compose import ColumnTransformer\n",
    "from sklearn.metrics import make_scorer, accuracy_score, recall_score, precision_score, mean_squared_error, f1_score\n",
    "from sklearn.metrics import confusion_matrix, ConfusionMatrixDisplay, classification_report\n",
    "from sklearn.decomposition import PCA\n",
    "from sklearn.feature_selection import SelectKBest, chi2, SelectFromModel, VarianceThreshold, SelectPercentile\n",
    "from sklearn import set_config\n",
    "from sklearn.impute import SimpleImputer\n",
    "from sklearn.ensemble      import RandomForestRegressor\n",
    "from boruta                import BorutaPy\n",
    "\n",
    "from math import ceil\n",
    "from pivottablejs import pivot_ui\n",
    "\n",
    "#auxiliar packages\n",
    "from IPython.display         import Image\n",
    "from IPython.core.display    import HTML\n",
    "from scipy                   import stats\n",
    "import inflection\n",
    "import pickle\n",
    "import warnings\n",
    "import json\n",
    "import os\n",
    "warnings.filterwarnings('ignore')\n"
   ]
  },
  {
   "cell_type": "code",
   "execution_count": 6,
   "id": "4ed6427e",
   "metadata": {
    "ExecuteTime": {
     "end_time": "2023-07-15T12:37:13.050056Z",
     "start_time": "2023-07-15T12:37:13.027887Z"
    }
   },
   "outputs": [],
   "source": [
    "pd.options.display.float_format = '{:,.2f}'.format"
   ]
  },
  {
   "cell_type": "code",
   "execution_count": 7,
   "id": "8439342c",
   "metadata": {
    "ExecuteTime": {
     "end_time": "2023-07-15T12:37:13.700669Z",
     "start_time": "2023-07-15T12:37:13.652754Z"
    }
   },
   "outputs": [],
   "source": [
    "def rename_columns(dataframe):\n",
    "    df = dataframe.copy()\n",
    "    title = lambda x: inflection.titleize(x)\n",
    "    snakecase = lambda x: inflection.underscore(x)\n",
    "    accent = lambda x: inflection.transliterate(x)\n",
    "    spaces = lambda x: x.replace(\" \", \"\")\n",
    "    cols_old = list(df.columns)\n",
    "    cols_old = list(map(title, cols_old))\n",
    "    cols_old = list(map(spaces, cols_old))\n",
    "    cols_old = list(map(accent, cols_old))\n",
    "    cols_new = list(map(snakecase, cols_old))\n",
    "    df.columns = cols_new\n",
    "    return df\n",
    "\n",
    "\n",
    "\n",
    "def jupyter_settings():\n",
    "    %matplotlib inline\n",
    "    %pylab inline\n",
    "    \n",
    "    plt.style.use( 'bmh' )\n",
    "    plt.rcParams['figure.figsize'] = [25, 12]\n",
    "    plt.rcParams['font.size'] = 24\n",
    "    \n",
    "    display( HTML( '<style>.container { width:100% !important; }</style>') )\n",
    "    pd.options.display.max_columns = None\n",
    "    pd.options.display.max_rows = None\n",
    "    pd.set_option( 'display.expand_frame_repr', False )\n",
    "    \n",
    "    sns.set()"
   ]
  },
  {
   "cell_type": "code",
   "execution_count": 9,
   "id": "6f6e12b8",
   "metadata": {
    "ExecuteTime": {
     "end_time": "2023-07-15T12:37:28.866219Z",
     "start_time": "2023-07-15T12:37:28.805764Z"
    }
   },
   "outputs": [
    {
     "name": "stdout",
     "output_type": "stream",
     "text": [
      "Populating the interactive namespace from numpy and matplotlib\n"
     ]
    },
    {
     "data": {
      "text/html": [
       "<style>.container { width:100% !important; }</style>"
      ],
      "text/plain": [
       "<IPython.core.display.HTML object>"
      ]
     },
     "metadata": {},
     "output_type": "display_data"
    }
   ],
   "source": [
    "jupyter_settings()"
   ]
  },
  {
   "cell_type": "code",
   "execution_count": 12,
   "id": "8b5283a4",
   "metadata": {
    "ExecuteTime": {
     "end_time": "2023-07-15T12:42:15.786058Z",
     "start_time": "2023-07-15T12:42:15.300718Z"
    }
   },
   "outputs": [],
   "source": [
    "data_train_raw = pd.read_csv('..\\\\base\\\\train.csv')"
   ]
  },
  {
   "cell_type": "code",
   "execution_count": 13,
   "id": "6d781305",
   "metadata": {
    "ExecuteTime": {
     "end_time": "2023-07-15T12:42:27.019034Z",
     "start_time": "2023-07-15T12:42:26.985790Z"
    }
   },
   "outputs": [],
   "source": [
    "data = data_train_raw.copy()"
   ]
  },
  {
   "cell_type": "code",
   "execution_count": 14,
   "id": "a8f4d965",
   "metadata": {
    "ExecuteTime": {
     "end_time": "2023-07-15T12:42:33.022338Z",
     "start_time": "2023-07-15T12:42:32.984142Z"
    }
   },
   "outputs": [],
   "source": [
    "data = rename_columns(data)"
   ]
  },
  {
   "cell_type": "code",
   "execution_count": 15,
   "id": "724d5e39",
   "metadata": {
    "ExecuteTime": {
     "end_time": "2023-07-15T12:42:36.520091Z",
     "start_time": "2023-07-15T12:42:36.301214Z"
    }
   },
   "outputs": [
    {
     "data": {
      "text/html": [
       "<div>\n",
       "<style scoped>\n",
       "    .dataframe tbody tr th:only-of-type {\n",
       "        vertical-align: middle;\n",
       "    }\n",
       "\n",
       "    .dataframe tbody tr th {\n",
       "        vertical-align: top;\n",
       "    }\n",
       "\n",
       "    .dataframe thead th {\n",
       "        text-align: right;\n",
       "    }\n",
       "</style>\n",
       "<table border=\"1\" class=\"dataframe\">\n",
       "  <thead>\n",
       "    <tr style=\"text-align: right;\">\n",
       "      <th></th>\n",
       "      <th>id</th>\n",
       "      <th>gender</th>\n",
       "      <th>customer_type</th>\n",
       "      <th>age</th>\n",
       "      <th>type_of_purchase</th>\n",
       "      <th>store_size</th>\n",
       "      <th>store_distance</th>\n",
       "      <th>in_store_wifi</th>\n",
       "      <th>open/close_time_convenient</th>\n",
       "      <th>easy_of_online_shopping</th>\n",
       "      <th>store_location</th>\n",
       "      <th>toilet_cleaning</th>\n",
       "      <th>dressing_room</th>\n",
       "      <th>waiting_room</th>\n",
       "      <th>kids_entertainment</th>\n",
       "      <th>seller_service</th>\n",
       "      <th>showroom</th>\n",
       "      <th>self_store</th>\n",
       "      <th>purchase_service</th>\n",
       "      <th>store_service</th>\n",
       "      <th>cleanliness</th>\n",
       "      <th>carrier_delay_in_minutes</th>\n",
       "      <th>delivery_delay_in_minutes</th>\n",
       "      <th>satisfaction</th>\n",
       "    </tr>\n",
       "  </thead>\n",
       "  <tbody>\n",
       "    <tr>\n",
       "      <th>0</th>\n",
       "      <td>70172</td>\n",
       "      <td>Male</td>\n",
       "      <td>Loyal Customer</td>\n",
       "      <td>13</td>\n",
       "      <td>Personal</td>\n",
       "      <td>Small</td>\n",
       "      <td>460</td>\n",
       "      <td>3</td>\n",
       "      <td>4</td>\n",
       "      <td>3</td>\n",
       "      <td>1</td>\n",
       "      <td>5</td>\n",
       "      <td>3</td>\n",
       "      <td>5</td>\n",
       "      <td>5</td>\n",
       "      <td>4</td>\n",
       "      <td>3</td>\n",
       "      <td>4</td>\n",
       "      <td>4</td>\n",
       "      <td>5</td>\n",
       "      <td>5</td>\n",
       "      <td>25</td>\n",
       "      <td>18.00</td>\n",
       "      <td>Neutral or Dissatisfaction</td>\n",
       "    </tr>\n",
       "    <tr>\n",
       "      <th>1</th>\n",
       "      <td>5047</td>\n",
       "      <td>Male</td>\n",
       "      <td>disloyal Customer</td>\n",
       "      <td>25</td>\n",
       "      <td>Gift</td>\n",
       "      <td>Large</td>\n",
       "      <td>235</td>\n",
       "      <td>3</td>\n",
       "      <td>2</td>\n",
       "      <td>3</td>\n",
       "      <td>3</td>\n",
       "      <td>1</td>\n",
       "      <td>3</td>\n",
       "      <td>1</td>\n",
       "      <td>1</td>\n",
       "      <td>1</td>\n",
       "      <td>5</td>\n",
       "      <td>3</td>\n",
       "      <td>1</td>\n",
       "      <td>4</td>\n",
       "      <td>1</td>\n",
       "      <td>1</td>\n",
       "      <td>6.00</td>\n",
       "      <td>Neutral or Dissatisfaction</td>\n",
       "    </tr>\n",
       "    <tr>\n",
       "      <th>2</th>\n",
       "      <td>110028</td>\n",
       "      <td>Female</td>\n",
       "      <td>Loyal Customer</td>\n",
       "      <td>26</td>\n",
       "      <td>Gift</td>\n",
       "      <td>Large</td>\n",
       "      <td>1142</td>\n",
       "      <td>2</td>\n",
       "      <td>2</td>\n",
       "      <td>2</td>\n",
       "      <td>2</td>\n",
       "      <td>5</td>\n",
       "      <td>5</td>\n",
       "      <td>5</td>\n",
       "      <td>5</td>\n",
       "      <td>4</td>\n",
       "      <td>3</td>\n",
       "      <td>4</td>\n",
       "      <td>4</td>\n",
       "      <td>4</td>\n",
       "      <td>5</td>\n",
       "      <td>0</td>\n",
       "      <td>0.00</td>\n",
       "      <td>Satisfied</td>\n",
       "    </tr>\n",
       "    <tr>\n",
       "      <th>3</th>\n",
       "      <td>24026</td>\n",
       "      <td>Female</td>\n",
       "      <td>Loyal Customer</td>\n",
       "      <td>25</td>\n",
       "      <td>Gift</td>\n",
       "      <td>Large</td>\n",
       "      <td>562</td>\n",
       "      <td>2</td>\n",
       "      <td>5</td>\n",
       "      <td>5</td>\n",
       "      <td>5</td>\n",
       "      <td>2</td>\n",
       "      <td>2</td>\n",
       "      <td>2</td>\n",
       "      <td>2</td>\n",
       "      <td>2</td>\n",
       "      <td>5</td>\n",
       "      <td>3</td>\n",
       "      <td>1</td>\n",
       "      <td>4</td>\n",
       "      <td>2</td>\n",
       "      <td>11</td>\n",
       "      <td>9.00</td>\n",
       "      <td>Neutral or Dissatisfaction</td>\n",
       "    </tr>\n",
       "    <tr>\n",
       "      <th>4</th>\n",
       "      <td>119299</td>\n",
       "      <td>Male</td>\n",
       "      <td>Loyal Customer</td>\n",
       "      <td>61</td>\n",
       "      <td>Gift</td>\n",
       "      <td>Large</td>\n",
       "      <td>214</td>\n",
       "      <td>3</td>\n",
       "      <td>3</td>\n",
       "      <td>3</td>\n",
       "      <td>3</td>\n",
       "      <td>4</td>\n",
       "      <td>5</td>\n",
       "      <td>5</td>\n",
       "      <td>3</td>\n",
       "      <td>3</td>\n",
       "      <td>4</td>\n",
       "      <td>4</td>\n",
       "      <td>3</td>\n",
       "      <td>3</td>\n",
       "      <td>3</td>\n",
       "      <td>0</td>\n",
       "      <td>0.00</td>\n",
       "      <td>Satisfied</td>\n",
       "    </tr>\n",
       "  </tbody>\n",
       "</table>\n",
       "</div>"
      ],
      "text/plain": [
       "       id  gender      customer_type  age type_of_purchase store_size  store_distance  in_store_wifi  open/close_time_convenient  easy_of_online_shopping  store_location  toilet_cleaning  dressing_room  waiting_room  kids_entertainment  seller_service  showroom  self_store  purchase_service  store_service  cleanliness  carrier_delay_in_minutes  delivery_delay_in_minutes                satisfaction\n",
       "0   70172    Male     Loyal Customer   13         Personal      Small             460              3                           4                        3               1                5              3             5                   5               4         3           4                 4              5            5                        25                      18.00  Neutral or Dissatisfaction\n",
       "1    5047    Male  disloyal Customer   25             Gift      Large             235              3                           2                        3               3                1              3             1                   1               1         5           3                 1              4            1                         1                       6.00  Neutral or Dissatisfaction\n",
       "2  110028  Female     Loyal Customer   26             Gift      Large            1142              2                           2                        2               2                5              5             5                   5               4         3           4                 4              4            5                         0                       0.00                   Satisfied\n",
       "3   24026  Female     Loyal Customer   25             Gift      Large             562              2                           5                        5               5                2              2             2                   2               2         5           3                 1              4            2                        11                       9.00  Neutral or Dissatisfaction\n",
       "4  119299    Male     Loyal Customer   61             Gift      Large             214              3                           3                        3               3                4              5             5                   3               3         4           4                 3              3            3                         0                       0.00                   Satisfied"
      ]
     },
     "execution_count": 15,
     "metadata": {},
     "output_type": "execute_result"
    }
   ],
   "source": [
    "data.head()"
   ]
  },
  {
   "cell_type": "code",
   "execution_count": 16,
   "id": "f4643286",
   "metadata": {
    "ExecuteTime": {
     "end_time": "2023-07-15T12:42:54.374592Z",
     "start_time": "2023-07-15T12:42:54.090922Z"
    }
   },
   "outputs": [
    {
     "data": {
      "text/html": [
       "<div>\n",
       "<style scoped>\n",
       "    .dataframe tbody tr th:only-of-type {\n",
       "        vertical-align: middle;\n",
       "    }\n",
       "\n",
       "    .dataframe tbody tr th {\n",
       "        vertical-align: top;\n",
       "    }\n",
       "\n",
       "    .dataframe thead th {\n",
       "        text-align: right;\n",
       "    }\n",
       "</style>\n",
       "<table border=\"1\" class=\"dataframe\">\n",
       "  <thead>\n",
       "    <tr style=\"text-align: right;\">\n",
       "      <th></th>\n",
       "      <th>id</th>\n",
       "      <th>age</th>\n",
       "      <th>store_distance</th>\n",
       "      <th>in_store_wifi</th>\n",
       "      <th>open/close_time_convenient</th>\n",
       "      <th>easy_of_online_shopping</th>\n",
       "      <th>store_location</th>\n",
       "      <th>toilet_cleaning</th>\n",
       "      <th>dressing_room</th>\n",
       "      <th>waiting_room</th>\n",
       "      <th>kids_entertainment</th>\n",
       "      <th>seller_service</th>\n",
       "      <th>showroom</th>\n",
       "      <th>self_store</th>\n",
       "      <th>purchase_service</th>\n",
       "      <th>store_service</th>\n",
       "      <th>cleanliness</th>\n",
       "      <th>carrier_delay_in_minutes</th>\n",
       "      <th>delivery_delay_in_minutes</th>\n",
       "    </tr>\n",
       "  </thead>\n",
       "  <tbody>\n",
       "    <tr>\n",
       "      <th>count</th>\n",
       "      <td>103,904.00</td>\n",
       "      <td>103,904.00</td>\n",
       "      <td>103,904.00</td>\n",
       "      <td>103,904.00</td>\n",
       "      <td>103,904.00</td>\n",
       "      <td>103,904.00</td>\n",
       "      <td>103,904.00</td>\n",
       "      <td>103,904.00</td>\n",
       "      <td>103,904.00</td>\n",
       "      <td>103,904.00</td>\n",
       "      <td>103,904.00</td>\n",
       "      <td>103,904.00</td>\n",
       "      <td>103,904.00</td>\n",
       "      <td>103,904.00</td>\n",
       "      <td>103,904.00</td>\n",
       "      <td>103,904.00</td>\n",
       "      <td>103,904.00</td>\n",
       "      <td>103,904.00</td>\n",
       "      <td>103,594.00</td>\n",
       "    </tr>\n",
       "    <tr>\n",
       "      <th>mean</th>\n",
       "      <td>64,924.21</td>\n",
       "      <td>39.38</td>\n",
       "      <td>1,189.45</td>\n",
       "      <td>2.73</td>\n",
       "      <td>3.06</td>\n",
       "      <td>2.76</td>\n",
       "      <td>2.98</td>\n",
       "      <td>3.20</td>\n",
       "      <td>3.25</td>\n",
       "      <td>3.44</td>\n",
       "      <td>3.36</td>\n",
       "      <td>3.38</td>\n",
       "      <td>3.35</td>\n",
       "      <td>3.63</td>\n",
       "      <td>3.30</td>\n",
       "      <td>3.64</td>\n",
       "      <td>3.29</td>\n",
       "      <td>14.82</td>\n",
       "      <td>15.18</td>\n",
       "    </tr>\n",
       "    <tr>\n",
       "      <th>std</th>\n",
       "      <td>37,463.81</td>\n",
       "      <td>15.11</td>\n",
       "      <td>997.15</td>\n",
       "      <td>1.33</td>\n",
       "      <td>1.53</td>\n",
       "      <td>1.40</td>\n",
       "      <td>1.28</td>\n",
       "      <td>1.33</td>\n",
       "      <td>1.35</td>\n",
       "      <td>1.32</td>\n",
       "      <td>1.33</td>\n",
       "      <td>1.29</td>\n",
       "      <td>1.32</td>\n",
       "      <td>1.18</td>\n",
       "      <td>1.27</td>\n",
       "      <td>1.18</td>\n",
       "      <td>1.31</td>\n",
       "      <td>38.23</td>\n",
       "      <td>38.70</td>\n",
       "    </tr>\n",
       "    <tr>\n",
       "      <th>min</th>\n",
       "      <td>1.00</td>\n",
       "      <td>7.00</td>\n",
       "      <td>31.00</td>\n",
       "      <td>0.00</td>\n",
       "      <td>0.00</td>\n",
       "      <td>0.00</td>\n",
       "      <td>0.00</td>\n",
       "      <td>0.00</td>\n",
       "      <td>0.00</td>\n",
       "      <td>0.00</td>\n",
       "      <td>0.00</td>\n",
       "      <td>0.00</td>\n",
       "      <td>0.00</td>\n",
       "      <td>1.00</td>\n",
       "      <td>0.00</td>\n",
       "      <td>0.00</td>\n",
       "      <td>0.00</td>\n",
       "      <td>0.00</td>\n",
       "      <td>0.00</td>\n",
       "    </tr>\n",
       "    <tr>\n",
       "      <th>25%</th>\n",
       "      <td>32,533.75</td>\n",
       "      <td>27.00</td>\n",
       "      <td>414.00</td>\n",
       "      <td>2.00</td>\n",
       "      <td>2.00</td>\n",
       "      <td>2.00</td>\n",
       "      <td>2.00</td>\n",
       "      <td>2.00</td>\n",
       "      <td>2.00</td>\n",
       "      <td>2.00</td>\n",
       "      <td>2.00</td>\n",
       "      <td>2.00</td>\n",
       "      <td>2.00</td>\n",
       "      <td>3.00</td>\n",
       "      <td>3.00</td>\n",
       "      <td>3.00</td>\n",
       "      <td>2.00</td>\n",
       "      <td>0.00</td>\n",
       "      <td>0.00</td>\n",
       "    </tr>\n",
       "    <tr>\n",
       "      <th>50%</th>\n",
       "      <td>64,856.50</td>\n",
       "      <td>40.00</td>\n",
       "      <td>843.00</td>\n",
       "      <td>3.00</td>\n",
       "      <td>3.00</td>\n",
       "      <td>3.00</td>\n",
       "      <td>3.00</td>\n",
       "      <td>3.00</td>\n",
       "      <td>3.00</td>\n",
       "      <td>4.00</td>\n",
       "      <td>4.00</td>\n",
       "      <td>4.00</td>\n",
       "      <td>4.00</td>\n",
       "      <td>4.00</td>\n",
       "      <td>3.00</td>\n",
       "      <td>4.00</td>\n",
       "      <td>3.00</td>\n",
       "      <td>0.00</td>\n",
       "      <td>0.00</td>\n",
       "    </tr>\n",
       "    <tr>\n",
       "      <th>75%</th>\n",
       "      <td>97,368.25</td>\n",
       "      <td>51.00</td>\n",
       "      <td>1,743.00</td>\n",
       "      <td>4.00</td>\n",
       "      <td>4.00</td>\n",
       "      <td>4.00</td>\n",
       "      <td>4.00</td>\n",
       "      <td>4.00</td>\n",
       "      <td>4.00</td>\n",
       "      <td>5.00</td>\n",
       "      <td>4.00</td>\n",
       "      <td>4.00</td>\n",
       "      <td>4.00</td>\n",
       "      <td>5.00</td>\n",
       "      <td>4.00</td>\n",
       "      <td>5.00</td>\n",
       "      <td>4.00</td>\n",
       "      <td>12.00</td>\n",
       "      <td>13.00</td>\n",
       "    </tr>\n",
       "    <tr>\n",
       "      <th>max</th>\n",
       "      <td>129,880.00</td>\n",
       "      <td>85.00</td>\n",
       "      <td>4,983.00</td>\n",
       "      <td>5.00</td>\n",
       "      <td>5.00</td>\n",
       "      <td>5.00</td>\n",
       "      <td>5.00</td>\n",
       "      <td>5.00</td>\n",
       "      <td>5.00</td>\n",
       "      <td>5.00</td>\n",
       "      <td>5.00</td>\n",
       "      <td>5.00</td>\n",
       "      <td>5.00</td>\n",
       "      <td>5.00</td>\n",
       "      <td>5.00</td>\n",
       "      <td>5.00</td>\n",
       "      <td>5.00</td>\n",
       "      <td>1,592.00</td>\n",
       "      <td>1,584.00</td>\n",
       "    </tr>\n",
       "  </tbody>\n",
       "</table>\n",
       "</div>"
      ],
      "text/plain": [
       "              id        age  store_distance  in_store_wifi  open/close_time_convenient  easy_of_online_shopping  store_location  toilet_cleaning  dressing_room  waiting_room  kids_entertainment  seller_service   showroom  self_store  purchase_service  store_service  cleanliness  carrier_delay_in_minutes  delivery_delay_in_minutes\n",
       "count 103,904.00 103,904.00      103,904.00     103,904.00                  103,904.00               103,904.00      103,904.00       103,904.00     103,904.00    103,904.00          103,904.00      103,904.00 103,904.00  103,904.00        103,904.00     103,904.00   103,904.00                103,904.00                 103,594.00\n",
       "mean   64,924.21      39.38        1,189.45           2.73                        3.06                     2.76            2.98             3.20           3.25          3.44                3.36            3.38       3.35        3.63              3.30           3.64         3.29                     14.82                      15.18\n",
       "std    37,463.81      15.11          997.15           1.33                        1.53                     1.40            1.28             1.33           1.35          1.32                1.33            1.29       1.32        1.18              1.27           1.18         1.31                     38.23                      38.70\n",
       "min         1.00       7.00           31.00           0.00                        0.00                     0.00            0.00             0.00           0.00          0.00                0.00            0.00       0.00        1.00              0.00           0.00         0.00                      0.00                       0.00\n",
       "25%    32,533.75      27.00          414.00           2.00                        2.00                     2.00            2.00             2.00           2.00          2.00                2.00            2.00       2.00        3.00              3.00           3.00         2.00                      0.00                       0.00\n",
       "50%    64,856.50      40.00          843.00           3.00                        3.00                     3.00            3.00             3.00           3.00          4.00                4.00            4.00       4.00        4.00              3.00           4.00         3.00                      0.00                       0.00\n",
       "75%    97,368.25      51.00        1,743.00           4.00                        4.00                     4.00            4.00             4.00           4.00          5.00                4.00            4.00       4.00        5.00              4.00           5.00         4.00                     12.00                      13.00\n",
       "max   129,880.00      85.00        4,983.00           5.00                        5.00                     5.00            5.00             5.00           5.00          5.00                5.00            5.00       5.00        5.00              5.00           5.00         5.00                  1,592.00                   1,584.00"
      ]
     },
     "execution_count": 16,
     "metadata": {},
     "output_type": "execute_result"
    }
   ],
   "source": [
    "data.describe()"
   ]
  },
  {
   "cell_type": "code",
   "execution_count": 18,
   "id": "51bcaafb",
   "metadata": {
    "ExecuteTime": {
     "end_time": "2023-07-15T12:45:50.249320Z",
     "start_time": "2023-07-15T12:45:50.134635Z"
    }
   },
   "outputs": [
    {
     "data": {
      "text/plain": [
       "id                              0\n",
       "gender                          0\n",
       "customer_type                   0\n",
       "age                             0\n",
       "type_of_purchase                0\n",
       "store_size                      0\n",
       "store_distance                  0\n",
       "in_store_wifi                   0\n",
       "open/close_time_convenient      0\n",
       "easy_of_online_shopping         0\n",
       "store_location                  0\n",
       "toilet_cleaning                 0\n",
       "dressing_room                   0\n",
       "waiting_room                    0\n",
       "kids_entertainment              0\n",
       "seller_service                  0\n",
       "showroom                        0\n",
       "self_store                      0\n",
       "purchase_service                0\n",
       "store_service                   0\n",
       "cleanliness                     0\n",
       "carrier_delay_in_minutes        0\n",
       "delivery_delay_in_minutes     310\n",
       "satisfaction                    0\n",
       "dtype: int64"
      ]
     },
     "execution_count": 18,
     "metadata": {},
     "output_type": "execute_result"
    }
   ],
   "source": [
    "data.isna().sum()"
   ]
  },
  {
   "cell_type": "code",
   "execution_count": 21,
   "id": "3598627a",
   "metadata": {
    "ExecuteTime": {
     "end_time": "2023-07-15T12:47:17.945997Z",
     "start_time": "2023-07-15T12:47:17.929274Z"
    }
   },
   "outputs": [
    {
     "name": "stdout",
     "output_type": "stream",
     "text": [
      "103904\n"
     ]
    }
   ],
   "source": [
    "print(data.shape[0])"
   ]
  },
  {
   "cell_type": "code",
   "execution_count": 17,
   "id": "60124c56",
   "metadata": {
    "ExecuteTime": {
     "end_time": "2023-07-15T12:45:39.572930Z",
     "start_time": "2023-07-15T12:45:39.529636Z"
    }
   },
   "outputs": [],
   "source": [
    "num_attributes = data.select_dtypes( include=['int64', 'float64'] )\n",
    "cat_attributes = data.select_dtypes( exclude=['int64', 'float64', 'datetime64[ns]'] )"
   ]
  },
  {
   "cell_type": "code",
   "execution_count": 25,
   "id": "69505b44",
   "metadata": {
    "ExecuteTime": {
     "end_time": "2023-07-15T12:50:18.245141Z",
     "start_time": "2023-07-15T12:50:18.206217Z"
    }
   },
   "outputs": [
    {
     "data": {
      "text/html": [
       "<div>\n",
       "<style scoped>\n",
       "    .dataframe tbody tr th:only-of-type {\n",
       "        vertical-align: middle;\n",
       "    }\n",
       "\n",
       "    .dataframe tbody tr th {\n",
       "        vertical-align: top;\n",
       "    }\n",
       "\n",
       "    .dataframe thead th {\n",
       "        text-align: right;\n",
       "    }\n",
       "</style>\n",
       "<table border=\"1\" class=\"dataframe\">\n",
       "  <thead>\n",
       "    <tr style=\"text-align: right;\">\n",
       "      <th></th>\n",
       "      <th>gender</th>\n",
       "      <th>customer_type</th>\n",
       "      <th>type_of_purchase</th>\n",
       "      <th>store_size</th>\n",
       "      <th>satisfaction</th>\n",
       "    </tr>\n",
       "  </thead>\n",
       "  <tbody>\n",
       "    <tr>\n",
       "      <th>0</th>\n",
       "      <td>Male</td>\n",
       "      <td>Loyal Customer</td>\n",
       "      <td>Personal</td>\n",
       "      <td>Small</td>\n",
       "      <td>Neutral or Dissatisfaction</td>\n",
       "    </tr>\n",
       "    <tr>\n",
       "      <th>1</th>\n",
       "      <td>Male</td>\n",
       "      <td>disloyal Customer</td>\n",
       "      <td>Gift</td>\n",
       "      <td>Large</td>\n",
       "      <td>Neutral or Dissatisfaction</td>\n",
       "    </tr>\n",
       "    <tr>\n",
       "      <th>2</th>\n",
       "      <td>Female</td>\n",
       "      <td>Loyal Customer</td>\n",
       "      <td>Gift</td>\n",
       "      <td>Large</td>\n",
       "      <td>Satisfied</td>\n",
       "    </tr>\n",
       "    <tr>\n",
       "      <th>3</th>\n",
       "      <td>Female</td>\n",
       "      <td>Loyal Customer</td>\n",
       "      <td>Gift</td>\n",
       "      <td>Large</td>\n",
       "      <td>Neutral or Dissatisfaction</td>\n",
       "    </tr>\n",
       "    <tr>\n",
       "      <th>4</th>\n",
       "      <td>Male</td>\n",
       "      <td>Loyal Customer</td>\n",
       "      <td>Gift</td>\n",
       "      <td>Large</td>\n",
       "      <td>Satisfied</td>\n",
       "    </tr>\n",
       "  </tbody>\n",
       "</table>\n",
       "</div>"
      ],
      "text/plain": [
       "   gender      customer_type type_of_purchase store_size                satisfaction\n",
       "0    Male     Loyal Customer         Personal      Small  Neutral or Dissatisfaction\n",
       "1    Male  disloyal Customer             Gift      Large  Neutral or Dissatisfaction\n",
       "2  Female     Loyal Customer             Gift      Large                   Satisfied\n",
       "3  Female     Loyal Customer             Gift      Large  Neutral or Dissatisfaction\n",
       "4    Male     Loyal Customer             Gift      Large                   Satisfied"
      ]
     },
     "execution_count": 25,
     "metadata": {},
     "output_type": "execute_result"
    }
   ],
   "source": [
    "cat_attributes.head()"
   ]
  },
  {
   "cell_type": "code",
   "execution_count": 22,
   "id": "56c399dc",
   "metadata": {
    "ExecuteTime": {
     "end_time": "2023-07-15T12:48:34.683183Z",
     "start_time": "2023-07-15T12:48:34.506759Z"
    }
   },
   "outputs": [
    {
     "data": {
      "text/plain": [
       "gender              2\n",
       "customer_type       2\n",
       "type_of_purchase    2\n",
       "store_size          3\n",
       "satisfaction        2\n",
       "dtype: int64"
      ]
     },
     "execution_count": 22,
     "metadata": {},
     "output_type": "execute_result"
    }
   ],
   "source": [
    "cat_attributes.apply( lambda x: x.unique().shape[0] )"
   ]
  },
  {
   "cell_type": "code",
   "execution_count": 32,
   "id": "84def11c",
   "metadata": {
    "ExecuteTime": {
     "end_time": "2023-07-15T12:54:40.931334Z",
     "start_time": "2023-07-15T12:54:40.876554Z"
    }
   },
   "outputs": [
    {
     "data": {
      "text/plain": [
       "array(['Neutral or Dissatisfaction', 'Satisfied'], dtype=object)"
      ]
     },
     "execution_count": 32,
     "metadata": {},
     "output_type": "execute_result"
    }
   ],
   "source": [
    "cat_attributes['satisfaction'].unique()"
   ]
  },
  {
   "cell_type": "code",
   "execution_count": 28,
   "id": "69bd62e8",
   "metadata": {
    "ExecuteTime": {
     "end_time": "2023-07-15T12:52:17.146185Z",
     "start_time": "2023-07-15T12:52:17.121987Z"
    }
   },
   "outputs": [
    {
     "data": {
      "text/plain": [
       "Index(['gender', 'customer_type', 'type_of_purchase', 'store_size',\n",
       "       'satisfaction'],\n",
       "      dtype='object')"
      ]
     },
     "execution_count": 28,
     "metadata": {},
     "output_type": "execute_result"
    }
   ],
   "source": [
    "cat_attributes.columns"
   ]
  },
  {
   "cell_type": "code",
   "execution_count": 24,
   "id": "93cf856d",
   "metadata": {
    "ExecuteTime": {
     "end_time": "2023-07-15T12:50:05.662591Z",
     "start_time": "2023-07-15T12:50:05.605137Z"
    }
   },
   "outputs": [
    {
     "data": {
      "text/html": [
       "<div>\n",
       "<style scoped>\n",
       "    .dataframe tbody tr th:only-of-type {\n",
       "        vertical-align: middle;\n",
       "    }\n",
       "\n",
       "    .dataframe tbody tr th {\n",
       "        vertical-align: top;\n",
       "    }\n",
       "\n",
       "    .dataframe thead th {\n",
       "        text-align: right;\n",
       "    }\n",
       "</style>\n",
       "<table border=\"1\" class=\"dataframe\">\n",
       "  <thead>\n",
       "    <tr style=\"text-align: right;\">\n",
       "      <th></th>\n",
       "      <th>id</th>\n",
       "      <th>age</th>\n",
       "      <th>store_distance</th>\n",
       "      <th>in_store_wifi</th>\n",
       "      <th>open/close_time_convenient</th>\n",
       "      <th>easy_of_online_shopping</th>\n",
       "      <th>store_location</th>\n",
       "      <th>toilet_cleaning</th>\n",
       "      <th>dressing_room</th>\n",
       "      <th>waiting_room</th>\n",
       "      <th>kids_entertainment</th>\n",
       "      <th>seller_service</th>\n",
       "      <th>showroom</th>\n",
       "      <th>self_store</th>\n",
       "      <th>purchase_service</th>\n",
       "      <th>store_service</th>\n",
       "      <th>cleanliness</th>\n",
       "      <th>carrier_delay_in_minutes</th>\n",
       "      <th>delivery_delay_in_minutes</th>\n",
       "    </tr>\n",
       "  </thead>\n",
       "  <tbody>\n",
       "    <tr>\n",
       "      <th>0</th>\n",
       "      <td>70172</td>\n",
       "      <td>13</td>\n",
       "      <td>460</td>\n",
       "      <td>3</td>\n",
       "      <td>4</td>\n",
       "      <td>3</td>\n",
       "      <td>1</td>\n",
       "      <td>5</td>\n",
       "      <td>3</td>\n",
       "      <td>5</td>\n",
       "      <td>5</td>\n",
       "      <td>4</td>\n",
       "      <td>3</td>\n",
       "      <td>4</td>\n",
       "      <td>4</td>\n",
       "      <td>5</td>\n",
       "      <td>5</td>\n",
       "      <td>25</td>\n",
       "      <td>18.00</td>\n",
       "    </tr>\n",
       "    <tr>\n",
       "      <th>1</th>\n",
       "      <td>5047</td>\n",
       "      <td>25</td>\n",
       "      <td>235</td>\n",
       "      <td>3</td>\n",
       "      <td>2</td>\n",
       "      <td>3</td>\n",
       "      <td>3</td>\n",
       "      <td>1</td>\n",
       "      <td>3</td>\n",
       "      <td>1</td>\n",
       "      <td>1</td>\n",
       "      <td>1</td>\n",
       "      <td>5</td>\n",
       "      <td>3</td>\n",
       "      <td>1</td>\n",
       "      <td>4</td>\n",
       "      <td>1</td>\n",
       "      <td>1</td>\n",
       "      <td>6.00</td>\n",
       "    </tr>\n",
       "    <tr>\n",
       "      <th>2</th>\n",
       "      <td>110028</td>\n",
       "      <td>26</td>\n",
       "      <td>1142</td>\n",
       "      <td>2</td>\n",
       "      <td>2</td>\n",
       "      <td>2</td>\n",
       "      <td>2</td>\n",
       "      <td>5</td>\n",
       "      <td>5</td>\n",
       "      <td>5</td>\n",
       "      <td>5</td>\n",
       "      <td>4</td>\n",
       "      <td>3</td>\n",
       "      <td>4</td>\n",
       "      <td>4</td>\n",
       "      <td>4</td>\n",
       "      <td>5</td>\n",
       "      <td>0</td>\n",
       "      <td>0.00</td>\n",
       "    </tr>\n",
       "    <tr>\n",
       "      <th>3</th>\n",
       "      <td>24026</td>\n",
       "      <td>25</td>\n",
       "      <td>562</td>\n",
       "      <td>2</td>\n",
       "      <td>5</td>\n",
       "      <td>5</td>\n",
       "      <td>5</td>\n",
       "      <td>2</td>\n",
       "      <td>2</td>\n",
       "      <td>2</td>\n",
       "      <td>2</td>\n",
       "      <td>2</td>\n",
       "      <td>5</td>\n",
       "      <td>3</td>\n",
       "      <td>1</td>\n",
       "      <td>4</td>\n",
       "      <td>2</td>\n",
       "      <td>11</td>\n",
       "      <td>9.00</td>\n",
       "    </tr>\n",
       "    <tr>\n",
       "      <th>4</th>\n",
       "      <td>119299</td>\n",
       "      <td>61</td>\n",
       "      <td>214</td>\n",
       "      <td>3</td>\n",
       "      <td>3</td>\n",
       "      <td>3</td>\n",
       "      <td>3</td>\n",
       "      <td>4</td>\n",
       "      <td>5</td>\n",
       "      <td>5</td>\n",
       "      <td>3</td>\n",
       "      <td>3</td>\n",
       "      <td>4</td>\n",
       "      <td>4</td>\n",
       "      <td>3</td>\n",
       "      <td>3</td>\n",
       "      <td>3</td>\n",
       "      <td>0</td>\n",
       "      <td>0.00</td>\n",
       "    </tr>\n",
       "  </tbody>\n",
       "</table>\n",
       "</div>"
      ],
      "text/plain": [
       "       id  age  store_distance  in_store_wifi  open/close_time_convenient  easy_of_online_shopping  store_location  toilet_cleaning  dressing_room  waiting_room  kids_entertainment  seller_service  showroom  self_store  purchase_service  store_service  cleanliness  carrier_delay_in_minutes  delivery_delay_in_minutes\n",
       "0   70172   13             460              3                           4                        3               1                5              3             5                   5               4         3           4                 4              5            5                        25                      18.00\n",
       "1    5047   25             235              3                           2                        3               3                1              3             1                   1               1         5           3                 1              4            1                         1                       6.00\n",
       "2  110028   26            1142              2                           2                        2               2                5              5             5                   5               4         3           4                 4              4            5                         0                       0.00\n",
       "3   24026   25             562              2                           5                        5               5                2              2             2                   2               2         5           3                 1              4            2                        11                       9.00\n",
       "4  119299   61             214              3                           3                        3               3                4              5             5                   3               3         4           4                 3              3            3                         0                       0.00"
      ]
     },
     "execution_count": 24,
     "metadata": {},
     "output_type": "execute_result"
    }
   ],
   "source": [
    "num_attributes.head()"
   ]
  },
  {
   "cell_type": "code",
   "execution_count": 26,
   "id": "4be8ee76",
   "metadata": {
    "ExecuteTime": {
     "end_time": "2023-07-15T12:50:31.385793Z",
     "start_time": "2023-07-15T12:50:31.328720Z"
    }
   },
   "outputs": [
    {
     "data": {
      "text/plain": [
       "Neutral or Dissatisfaction    58879\n",
       "Satisfied                     45025\n",
       "Name: satisfaction, dtype: int64"
      ]
     },
     "execution_count": 26,
     "metadata": {},
     "output_type": "execute_result"
    }
   ],
   "source": [
    "data['satisfaction'].value_counts()"
   ]
  },
  {
   "cell_type": "code",
   "execution_count": 44,
   "id": "cc953756",
   "metadata": {
    "ExecuteTime": {
     "end_time": "2023-07-15T12:57:16.643044Z",
     "start_time": "2023-07-15T12:57:16.585373Z"
    }
   },
   "outputs": [
    {
     "data": {
      "text/html": [
       "<div>\n",
       "<style scoped>\n",
       "    .dataframe tbody tr th:only-of-type {\n",
       "        vertical-align: middle;\n",
       "    }\n",
       "\n",
       "    .dataframe tbody tr th {\n",
       "        vertical-align: top;\n",
       "    }\n",
       "\n",
       "    .dataframe thead th {\n",
       "        text-align: right;\n",
       "    }\n",
       "</style>\n",
       "<table border=\"1\" class=\"dataframe\">\n",
       "  <thead>\n",
       "    <tr style=\"text-align: right;\">\n",
       "      <th></th>\n",
       "      <th>id</th>\n",
       "      <th>gender</th>\n",
       "      <th>customer_type</th>\n",
       "      <th>age</th>\n",
       "      <th>type_of_purchase</th>\n",
       "      <th>store_size</th>\n",
       "      <th>store_distance</th>\n",
       "      <th>in_store_wifi</th>\n",
       "      <th>open/close_time_convenient</th>\n",
       "      <th>easy_of_online_shopping</th>\n",
       "      <th>store_location</th>\n",
       "      <th>toilet_cleaning</th>\n",
       "      <th>dressing_room</th>\n",
       "      <th>waiting_room</th>\n",
       "      <th>kids_entertainment</th>\n",
       "      <th>seller_service</th>\n",
       "      <th>showroom</th>\n",
       "      <th>self_store</th>\n",
       "      <th>purchase_service</th>\n",
       "      <th>store_service</th>\n",
       "      <th>cleanliness</th>\n",
       "      <th>carrier_delay_in_minutes</th>\n",
       "      <th>delivery_delay_in_minutes</th>\n",
       "      <th>satisfaction</th>\n",
       "    </tr>\n",
       "  </thead>\n",
       "  <tbody>\n",
       "    <tr>\n",
       "      <th>0</th>\n",
       "      <td>70172</td>\n",
       "      <td>Male</td>\n",
       "      <td>Loyal Customer</td>\n",
       "      <td>13</td>\n",
       "      <td>Personal</td>\n",
       "      <td>Small</td>\n",
       "      <td>460</td>\n",
       "      <td>3</td>\n",
       "      <td>4</td>\n",
       "      <td>3</td>\n",
       "      <td>1</td>\n",
       "      <td>5</td>\n",
       "      <td>3</td>\n",
       "      <td>5</td>\n",
       "      <td>5</td>\n",
       "      <td>4</td>\n",
       "      <td>3</td>\n",
       "      <td>4</td>\n",
       "      <td>4</td>\n",
       "      <td>5</td>\n",
       "      <td>5</td>\n",
       "      <td>25</td>\n",
       "      <td>18.00</td>\n",
       "      <td>Neutral or Dissatisfaction</td>\n",
       "    </tr>\n",
       "    <tr>\n",
       "      <th>1</th>\n",
       "      <td>5047</td>\n",
       "      <td>Male</td>\n",
       "      <td>disloyal Customer</td>\n",
       "      <td>25</td>\n",
       "      <td>Gift</td>\n",
       "      <td>Large</td>\n",
       "      <td>235</td>\n",
       "      <td>3</td>\n",
       "      <td>2</td>\n",
       "      <td>3</td>\n",
       "      <td>3</td>\n",
       "      <td>1</td>\n",
       "      <td>3</td>\n",
       "      <td>1</td>\n",
       "      <td>1</td>\n",
       "      <td>1</td>\n",
       "      <td>5</td>\n",
       "      <td>3</td>\n",
       "      <td>1</td>\n",
       "      <td>4</td>\n",
       "      <td>1</td>\n",
       "      <td>1</td>\n",
       "      <td>6.00</td>\n",
       "      <td>Neutral or Dissatisfaction</td>\n",
       "    </tr>\n",
       "    <tr>\n",
       "      <th>2</th>\n",
       "      <td>110028</td>\n",
       "      <td>Female</td>\n",
       "      <td>Loyal Customer</td>\n",
       "      <td>26</td>\n",
       "      <td>Gift</td>\n",
       "      <td>Large</td>\n",
       "      <td>1142</td>\n",
       "      <td>2</td>\n",
       "      <td>2</td>\n",
       "      <td>2</td>\n",
       "      <td>2</td>\n",
       "      <td>5</td>\n",
       "      <td>5</td>\n",
       "      <td>5</td>\n",
       "      <td>5</td>\n",
       "      <td>4</td>\n",
       "      <td>3</td>\n",
       "      <td>4</td>\n",
       "      <td>4</td>\n",
       "      <td>4</td>\n",
       "      <td>5</td>\n",
       "      <td>0</td>\n",
       "      <td>0.00</td>\n",
       "      <td>Satisfied</td>\n",
       "    </tr>\n",
       "    <tr>\n",
       "      <th>3</th>\n",
       "      <td>24026</td>\n",
       "      <td>Female</td>\n",
       "      <td>Loyal Customer</td>\n",
       "      <td>25</td>\n",
       "      <td>Gift</td>\n",
       "      <td>Large</td>\n",
       "      <td>562</td>\n",
       "      <td>2</td>\n",
       "      <td>5</td>\n",
       "      <td>5</td>\n",
       "      <td>5</td>\n",
       "      <td>2</td>\n",
       "      <td>2</td>\n",
       "      <td>2</td>\n",
       "      <td>2</td>\n",
       "      <td>2</td>\n",
       "      <td>5</td>\n",
       "      <td>3</td>\n",
       "      <td>1</td>\n",
       "      <td>4</td>\n",
       "      <td>2</td>\n",
       "      <td>11</td>\n",
       "      <td>9.00</td>\n",
       "      <td>Neutral or Dissatisfaction</td>\n",
       "    </tr>\n",
       "    <tr>\n",
       "      <th>4</th>\n",
       "      <td>119299</td>\n",
       "      <td>Male</td>\n",
       "      <td>Loyal Customer</td>\n",
       "      <td>61</td>\n",
       "      <td>Gift</td>\n",
       "      <td>Large</td>\n",
       "      <td>214</td>\n",
       "      <td>3</td>\n",
       "      <td>3</td>\n",
       "      <td>3</td>\n",
       "      <td>3</td>\n",
       "      <td>4</td>\n",
       "      <td>5</td>\n",
       "      <td>5</td>\n",
       "      <td>3</td>\n",
       "      <td>3</td>\n",
       "      <td>4</td>\n",
       "      <td>4</td>\n",
       "      <td>3</td>\n",
       "      <td>3</td>\n",
       "      <td>3</td>\n",
       "      <td>0</td>\n",
       "      <td>0.00</td>\n",
       "      <td>Satisfied</td>\n",
       "    </tr>\n",
       "  </tbody>\n",
       "</table>\n",
       "</div>"
      ],
      "text/plain": [
       "       id  gender      customer_type  age type_of_purchase store_size  store_distance  in_store_wifi  open/close_time_convenient  easy_of_online_shopping  store_location  toilet_cleaning  dressing_room  waiting_room  kids_entertainment  seller_service  showroom  self_store  purchase_service  store_service  cleanliness  carrier_delay_in_minutes  delivery_delay_in_minutes                satisfaction\n",
       "0   70172    Male     Loyal Customer   13         Personal      Small             460              3                           4                        3               1                5              3             5                   5               4         3           4                 4              5            5                        25                      18.00  Neutral or Dissatisfaction\n",
       "1    5047    Male  disloyal Customer   25             Gift      Large             235              3                           2                        3               3                1              3             1                   1               1         5           3                 1              4            1                         1                       6.00  Neutral or Dissatisfaction\n",
       "2  110028  Female     Loyal Customer   26             Gift      Large            1142              2                           2                        2               2                5              5             5                   5               4         3           4                 4              4            5                         0                       0.00                   Satisfied\n",
       "3   24026  Female     Loyal Customer   25             Gift      Large             562              2                           5                        5               5                2              2             2                   2               2         5           3                 1              4            2                        11                       9.00  Neutral or Dissatisfaction\n",
       "4  119299    Male     Loyal Customer   61             Gift      Large             214              3                           3                        3               3                4              5             5                   3               3         4           4                 3              3            3                         0                       0.00                   Satisfied"
      ]
     },
     "execution_count": 44,
     "metadata": {},
     "output_type": "execute_result"
    }
   ],
   "source": [
    "data.head()"
   ]
  },
  {
   "cell_type": "code",
   "execution_count": 56,
   "id": "63fa6677",
   "metadata": {
    "ExecuteTime": {
     "end_time": "2023-07-15T13:01:05.286088Z",
     "start_time": "2023-07-15T13:01:05.254116Z"
    }
   },
   "outputs": [],
   "source": [
    "df1 = data.copy()"
   ]
  },
  {
   "cell_type": "code",
   "execution_count": 57,
   "id": "4a92d7e3",
   "metadata": {
    "ExecuteTime": {
     "end_time": "2023-07-15T13:01:06.063278Z",
     "start_time": "2023-07-15T13:01:05.665883Z"
    }
   },
   "outputs": [],
   "source": [
    "le = LabelEncoder()\n",
    "df1['gender'] = le.fit_transform( df1['gender'] )\n",
    "df1['customer_type'] = le.fit_transform( df1['customer_type'] )\n",
    "df1['type_of_purchase'] = le.fit_transform( df1['type_of_purchase'] )\n",
    "df1['store_size'] = le.fit_transform( df1['store_size'] )\n",
    "df1['satisfaction'] = le.fit_transform( df1['satisfaction'] )"
   ]
  },
  {
   "cell_type": "code",
   "execution_count": 58,
   "id": "585f921d",
   "metadata": {
    "ExecuteTime": {
     "end_time": "2023-07-15T13:01:06.173334Z",
     "start_time": "2023-07-15T13:01:06.155246Z"
    }
   },
   "outputs": [],
   "source": [
    "# satisfaction_dic = {'sexo': {'Satisfied': 0, 'Neutral or Dissatisfaction': 1}}"
   ]
  },
  {
   "cell_type": "code",
   "execution_count": 59,
   "id": "696d6f5b",
   "metadata": {
    "ExecuteTime": {
     "end_time": "2023-07-15T13:01:06.544483Z",
     "start_time": "2023-07-15T13:01:06.530413Z"
    }
   },
   "outputs": [],
   "source": [
    "# df1['satisfaction'] = df1['satisfaction'].map(satisfaction_dic)"
   ]
  },
  {
   "cell_type": "code",
   "execution_count": 60,
   "id": "7836d072",
   "metadata": {
    "ExecuteTime": {
     "end_time": "2023-07-15T13:01:07.101384Z",
     "start_time": "2023-07-15T13:01:07.038096Z"
    }
   },
   "outputs": [
    {
     "data": {
      "text/html": [
       "<div>\n",
       "<style scoped>\n",
       "    .dataframe tbody tr th:only-of-type {\n",
       "        vertical-align: middle;\n",
       "    }\n",
       "\n",
       "    .dataframe tbody tr th {\n",
       "        vertical-align: top;\n",
       "    }\n",
       "\n",
       "    .dataframe thead th {\n",
       "        text-align: right;\n",
       "    }\n",
       "</style>\n",
       "<table border=\"1\" class=\"dataframe\">\n",
       "  <thead>\n",
       "    <tr style=\"text-align: right;\">\n",
       "      <th></th>\n",
       "      <th>id</th>\n",
       "      <th>gender</th>\n",
       "      <th>customer_type</th>\n",
       "      <th>age</th>\n",
       "      <th>type_of_purchase</th>\n",
       "      <th>store_size</th>\n",
       "      <th>store_distance</th>\n",
       "      <th>in_store_wifi</th>\n",
       "      <th>open/close_time_convenient</th>\n",
       "      <th>easy_of_online_shopping</th>\n",
       "      <th>store_location</th>\n",
       "      <th>toilet_cleaning</th>\n",
       "      <th>dressing_room</th>\n",
       "      <th>waiting_room</th>\n",
       "      <th>kids_entertainment</th>\n",
       "      <th>seller_service</th>\n",
       "      <th>showroom</th>\n",
       "      <th>self_store</th>\n",
       "      <th>purchase_service</th>\n",
       "      <th>store_service</th>\n",
       "      <th>cleanliness</th>\n",
       "      <th>carrier_delay_in_minutes</th>\n",
       "      <th>delivery_delay_in_minutes</th>\n",
       "      <th>satisfaction</th>\n",
       "    </tr>\n",
       "  </thead>\n",
       "  <tbody>\n",
       "    <tr>\n",
       "      <th>0</th>\n",
       "      <td>70172</td>\n",
       "      <td>1</td>\n",
       "      <td>0</td>\n",
       "      <td>13</td>\n",
       "      <td>1</td>\n",
       "      <td>2</td>\n",
       "      <td>460</td>\n",
       "      <td>3</td>\n",
       "      <td>4</td>\n",
       "      <td>3</td>\n",
       "      <td>1</td>\n",
       "      <td>5</td>\n",
       "      <td>3</td>\n",
       "      <td>5</td>\n",
       "      <td>5</td>\n",
       "      <td>4</td>\n",
       "      <td>3</td>\n",
       "      <td>4</td>\n",
       "      <td>4</td>\n",
       "      <td>5</td>\n",
       "      <td>5</td>\n",
       "      <td>25</td>\n",
       "      <td>18.00</td>\n",
       "      <td>0</td>\n",
       "    </tr>\n",
       "    <tr>\n",
       "      <th>1</th>\n",
       "      <td>5047</td>\n",
       "      <td>1</td>\n",
       "      <td>1</td>\n",
       "      <td>25</td>\n",
       "      <td>0</td>\n",
       "      <td>0</td>\n",
       "      <td>235</td>\n",
       "      <td>3</td>\n",
       "      <td>2</td>\n",
       "      <td>3</td>\n",
       "      <td>3</td>\n",
       "      <td>1</td>\n",
       "      <td>3</td>\n",
       "      <td>1</td>\n",
       "      <td>1</td>\n",
       "      <td>1</td>\n",
       "      <td>5</td>\n",
       "      <td>3</td>\n",
       "      <td>1</td>\n",
       "      <td>4</td>\n",
       "      <td>1</td>\n",
       "      <td>1</td>\n",
       "      <td>6.00</td>\n",
       "      <td>0</td>\n",
       "    </tr>\n",
       "    <tr>\n",
       "      <th>2</th>\n",
       "      <td>110028</td>\n",
       "      <td>0</td>\n",
       "      <td>0</td>\n",
       "      <td>26</td>\n",
       "      <td>0</td>\n",
       "      <td>0</td>\n",
       "      <td>1142</td>\n",
       "      <td>2</td>\n",
       "      <td>2</td>\n",
       "      <td>2</td>\n",
       "      <td>2</td>\n",
       "      <td>5</td>\n",
       "      <td>5</td>\n",
       "      <td>5</td>\n",
       "      <td>5</td>\n",
       "      <td>4</td>\n",
       "      <td>3</td>\n",
       "      <td>4</td>\n",
       "      <td>4</td>\n",
       "      <td>4</td>\n",
       "      <td>5</td>\n",
       "      <td>0</td>\n",
       "      <td>0.00</td>\n",
       "      <td>1</td>\n",
       "    </tr>\n",
       "    <tr>\n",
       "      <th>3</th>\n",
       "      <td>24026</td>\n",
       "      <td>0</td>\n",
       "      <td>0</td>\n",
       "      <td>25</td>\n",
       "      <td>0</td>\n",
       "      <td>0</td>\n",
       "      <td>562</td>\n",
       "      <td>2</td>\n",
       "      <td>5</td>\n",
       "      <td>5</td>\n",
       "      <td>5</td>\n",
       "      <td>2</td>\n",
       "      <td>2</td>\n",
       "      <td>2</td>\n",
       "      <td>2</td>\n",
       "      <td>2</td>\n",
       "      <td>5</td>\n",
       "      <td>3</td>\n",
       "      <td>1</td>\n",
       "      <td>4</td>\n",
       "      <td>2</td>\n",
       "      <td>11</td>\n",
       "      <td>9.00</td>\n",
       "      <td>0</td>\n",
       "    </tr>\n",
       "    <tr>\n",
       "      <th>4</th>\n",
       "      <td>119299</td>\n",
       "      <td>1</td>\n",
       "      <td>0</td>\n",
       "      <td>61</td>\n",
       "      <td>0</td>\n",
       "      <td>0</td>\n",
       "      <td>214</td>\n",
       "      <td>3</td>\n",
       "      <td>3</td>\n",
       "      <td>3</td>\n",
       "      <td>3</td>\n",
       "      <td>4</td>\n",
       "      <td>5</td>\n",
       "      <td>5</td>\n",
       "      <td>3</td>\n",
       "      <td>3</td>\n",
       "      <td>4</td>\n",
       "      <td>4</td>\n",
       "      <td>3</td>\n",
       "      <td>3</td>\n",
       "      <td>3</td>\n",
       "      <td>0</td>\n",
       "      <td>0.00</td>\n",
       "      <td>1</td>\n",
       "    </tr>\n",
       "  </tbody>\n",
       "</table>\n",
       "</div>"
      ],
      "text/plain": [
       "       id  gender  customer_type  age  type_of_purchase  store_size  store_distance  in_store_wifi  open/close_time_convenient  easy_of_online_shopping  store_location  toilet_cleaning  dressing_room  waiting_room  kids_entertainment  seller_service  showroom  self_store  purchase_service  store_service  cleanliness  carrier_delay_in_minutes  delivery_delay_in_minutes  satisfaction\n",
       "0   70172       1              0   13                 1           2             460              3                           4                        3               1                5              3             5                   5               4         3           4                 4              5            5                        25                      18.00             0\n",
       "1    5047       1              1   25                 0           0             235              3                           2                        3               3                1              3             1                   1               1         5           3                 1              4            1                         1                       6.00             0\n",
       "2  110028       0              0   26                 0           0            1142              2                           2                        2               2                5              5             5                   5               4         3           4                 4              4            5                         0                       0.00             1\n",
       "3   24026       0              0   25                 0           0             562              2                           5                        5               5                2              2             2                   2               2         5           3                 1              4            2                        11                       9.00             0\n",
       "4  119299       1              0   61                 0           0             214              3                           3                        3               3                4              5             5                   3               3         4           4                 3              3            3                         0                       0.00             1"
      ]
     },
     "execution_count": 60,
     "metadata": {},
     "output_type": "execute_result"
    }
   ],
   "source": [
    "df1.head()"
   ]
  },
  {
   "cell_type": "code",
   "execution_count": 64,
   "id": "5acec196",
   "metadata": {
    "ExecuteTime": {
     "end_time": "2023-07-15T13:01:48.307339Z",
     "start_time": "2023-07-15T13:01:48.269691Z"
    }
   },
   "outputs": [
    {
     "data": {
      "text/plain": [
       "id                            0\n",
       "gender                        0\n",
       "customer_type                 0\n",
       "age                           0\n",
       "type_of_purchase              0\n",
       "store_size                    0\n",
       "store_distance                0\n",
       "in_store_wifi                 0\n",
       "open/close_time_convenient    0\n",
       "easy_of_online_shopping       0\n",
       "store_location                0\n",
       "toilet_cleaning               0\n",
       "dressing_room                 0\n",
       "waiting_room                  0\n",
       "kids_entertainment            0\n",
       "seller_service                0\n",
       "showroom                      0\n",
       "self_store                    0\n",
       "purchase_service              0\n",
       "store_service                 0\n",
       "cleanliness                   0\n",
       "carrier_delay_in_minutes      0\n",
       "delivery_delay_in_minutes     0\n",
       "satisfaction                  0\n",
       "dtype: int64"
      ]
     },
     "execution_count": 64,
     "metadata": {},
     "output_type": "execute_result"
    }
   ],
   "source": [
    "df1.isna().sum()"
   ]
  },
  {
   "cell_type": "code",
   "execution_count": 63,
   "id": "faae123e",
   "metadata": {
    "ExecuteTime": {
     "end_time": "2023-07-15T13:01:44.273967Z",
     "start_time": "2023-07-15T13:01:44.201365Z"
    }
   },
   "outputs": [],
   "source": [
    "df1 = df1.dropna()"
   ]
  },
  {
   "cell_type": "code",
   "execution_count": 65,
   "id": "64cf86ab",
   "metadata": {
    "ExecuteTime": {
     "end_time": "2023-07-15T13:02:03.223527Z",
     "start_time": "2023-07-15T13:02:03.202686Z"
    }
   },
   "outputs": [
    {
     "data": {
      "text/plain": [
       "Index(['id', 'gender', 'customer_type', 'age', 'type_of_purchase',\n",
       "       'store_size', 'store_distance', 'in_store_wifi',\n",
       "       'open/close_time_convenient', 'easy_of_online_shopping',\n",
       "       'store_location', 'toilet_cleaning', 'dressing_room', 'waiting_room',\n",
       "       'kids_entertainment', 'seller_service', 'showroom', 'self_store',\n",
       "       'purchase_service', 'store_service', 'cleanliness',\n",
       "       'carrier_delay_in_minutes', 'delivery_delay_in_minutes',\n",
       "       'satisfaction'],\n",
       "      dtype='object')"
      ]
     },
     "execution_count": 65,
     "metadata": {},
     "output_type": "execute_result"
    }
   ],
   "source": [
    "df1.columns"
   ]
  },
  {
   "cell_type": "code",
   "execution_count": 66,
   "id": "c2befd6c",
   "metadata": {
    "ExecuteTime": {
     "end_time": "2023-07-15T13:02:16.419806Z",
     "start_time": "2023-07-15T13:02:16.405629Z"
    }
   },
   "outputs": [],
   "source": [
    "target = 'satisfaction' \n",
    "\n",
    "\n",
    "selected_features = ['id', 'gender', 'customer_type', 'age', 'type_of_purchase',\n",
    "       'store_size', 'store_distance', 'in_store_wifi',\n",
    "       'open/close_time_convenient', 'easy_of_online_shopping',\n",
    "       'store_location', 'toilet_cleaning', 'dressing_room', 'waiting_room',\n",
    "       'kids_entertainment', 'seller_service', 'showroom', 'self_store',\n",
    "       'purchase_service', 'store_service', 'cleanliness',\n",
    "       'carrier_delay_in_minutes', 'delivery_delay_in_minutes'\n",
    "     \n",
    "]"
   ]
  },
  {
   "cell_type": "code",
   "execution_count": 73,
   "id": "78b2c41e",
   "metadata": {
    "ExecuteTime": {
     "end_time": "2023-07-15T13:12:05.436010Z",
     "start_time": "2023-07-15T13:12:05.396422Z"
    }
   },
   "outputs": [],
   "source": [
    "X = df1[selected_features]\n",
    "y = df1[target]"
   ]
  },
  {
   "cell_type": "code",
   "execution_count": 74,
   "id": "1ffd2134",
   "metadata": {
    "ExecuteTime": {
     "end_time": "2023-07-15T13:12:06.208223Z",
     "start_time": "2023-07-15T13:12:06.110033Z"
    }
   },
   "outputs": [
    {
     "data": {
      "text/plain": [
       "((82875, 23), (82875,), (20719, 23), (20719,))"
      ]
     },
     "execution_count": 74,
     "metadata": {},
     "output_type": "execute_result"
    }
   ],
   "source": [
    "seed=7\n",
    "X_train, X_val, y_train, y_val = train_test_split(X, y, test_size = 0.2, shuffle=True, random_state=seed)#, stratify=y\n",
    "X_train.shape, y_train.shape, X_val.shape, y_val.shape"
   ]
  },
  {
   "cell_type": "code",
   "execution_count": 79,
   "id": "294c0782",
   "metadata": {
    "ExecuteTime": {
     "end_time": "2023-07-15T13:22:26.515260Z",
     "start_time": "2023-07-15T13:22:26.501059Z"
    }
   },
   "outputs": [],
   "source": [
    "def CM(y, prediction):\n",
    "    print(\"Confusion Matrix:\")\n",
    "    labels = [\"Satisfied\", \"Neutral or Dissatisfaction\"]\n",
    "    cm = confusion_matrix(y, prediction)\n",
    "    disp = ConfusionMatrixDisplay(confusion_matrix=cm, display_labels=labels)\n",
    "    disp.plot(cmap=\"binary\", values_format=\"d\")  \n",
    "    plt.show() "
   ]
  },
  {
   "cell_type": "code",
   "execution_count": 80,
   "id": "8d0089a7",
   "metadata": {
    "ExecuteTime": {
     "end_time": "2023-07-15T13:22:27.166419Z",
     "start_time": "2023-07-15T13:22:27.138321Z"
    }
   },
   "outputs": [],
   "source": [
    "def CVS(model, X, y):\n",
    "    \n",
    "    scoring = {'Accuracy': make_scorer(accuracy_score),\n",
    "               'Precision': make_scorer(precision_score),\n",
    "               'f1': make_scorer(f1_score),\n",
    "            '   Recall': make_scorer(recall_score)}\n",
    "    \n",
    "    y_pred = cross_val_predict(model, X, y, cv=Kfold, method='predict')\n",
    "    print(\"\\n\")      \n",
    "    CM(y,y_pred) \n",
    "    print(\"\\n\") \n",
    "    scores = cross_validate(model, X, y, cv = Kfold, scoring=scoring)\n",
    "    for chave, valor in scores.items():\n",
    "        print(f\" {chave} : {valor},  {valor.mean()} +/- {valor.std()}\")         \n",
    "\n",
    "    return y_pred "
   ]
  },
  {
   "cell_type": "code",
   "execution_count": 81,
   "id": "a9ead4c5",
   "metadata": {
    "ExecuteTime": {
     "end_time": "2023-07-15T13:22:27.649320Z",
     "start_time": "2023-07-15T13:22:27.628458Z"
    }
   },
   "outputs": [],
   "source": [
    "number_folds = 4\n",
    "Kfold = KFold(n_splits=number_folds, shuffle=True, random_state=seed)"
   ]
  },
  {
   "cell_type": "code",
   "execution_count": 85,
   "id": "27e1a90a",
   "metadata": {
    "ExecuteTime": {
     "end_time": "2023-07-15T13:28:24.949169Z",
     "start_time": "2023-07-15T13:23:52.622028Z"
    }
   },
   "outputs": [
    {
     "name": "stdout",
     "output_type": "stream",
     "text": [
      "\n",
      "\n",
      "Confusion Matrix:\n"
     ]
    },
    {
     "data": {
      "image/png": "[encoded data removed]",
      "text/plain": [
       "<Figure size 2500x1200 with 2 Axes>"
      ]
     },
     "metadata": {},
     "output_type": "display_data"
    },
    {
     "name": "stdout",
     "output_type": "stream",
     "text": [
      "\n",
      "\n",
      " fit_time : [29.9814353  27.93895936 27.43681288 25.83491278],  27.798030078411102 +/- 1.4808297357239886\n",
      " score_time : [1.30883908 1.35637879 1.43077683 1.33126044],  1.3568137884140015 +/- 0.04589462731900226\n",
      " test_Accuracy : [0.96366655 0.96358933 0.96219785 0.96208201],  0.9628839364441404 +/- 0.0007456292742475025\n",
      " test_Precision : [0.97377558 0.97315189 0.97276265 0.97349823],  0.9732970895009929 +/- 0.0003795155459617451\n",
      " test_f1 : [0.95771737 0.95735154 0.95545748 0.95520073],  0.9564317808582554 +/- 0.0011139390617357474\n",
      " test_   Recall : [0.94218018 0.94205607 0.93875726 0.93757836],  0.9401429701085058 +/- 0.002019132171282629\n"
     ]
    },
    {
     "data": {
      "text/plain": [
       "array([0, 0, 1, ..., 0, 0, 0])"
      ]
     },
     "execution_count": 85,
     "metadata": {},
     "output_type": "execute_result"
    }
   ],
   "source": [
    "rf = RandomForestClassifier(random_state=seed)\n",
    "rf.fit(X_train,y_train)\n",
    "# y_predict = rf.predict(X_val)\n",
    "# print(\"Metrics \\n\", classification_report(y_val,y_predict))\n",
    "\n",
    "CVS(rf, X, y)"
   ]
  },
  {
   "cell_type": "code",
   "execution_count": null,
   "id": "bbdbd74c",
   "metadata": {},
   "outputs": [],
   "source": []
  },
  {
   "cell_type": "markdown",
   "id": "00d88423",
   "metadata": {},
   "source": [
    "# model prod"
   ]
  },
  {
   "cell_type": "code",
   "execution_count": 89,
   "id": "ac20a74c",
   "metadata": {
    "ExecuteTime": {
     "end_time": "2023-07-15T13:36:26.125022Z",
     "start_time": "2023-07-15T13:35:34.359922Z"
    }
   },
   "outputs": [
    {
     "name": "stdout",
     "output_type": "stream",
     "text": [
      "XGBoost Classifier\n",
      "F1:0.9912831047693076\n",
      "              precision    recall  f1-score   support\n",
      "\n",
      "           0       0.99      1.00      0.99     11681\n",
      "           1       0.99      0.99      0.99      9038\n",
      "\n",
      "    accuracy                           0.99     20719\n",
      "   macro avg       0.99      0.99      0.99     20719\n",
      "weighted avg       0.99      0.99      0.99     20719\n",
      "\n",
      "[[11635    46]\n",
      " [  111  8927]]\n"
     ]
    }
   ],
   "source": [
    "np.random.seed(7)\n",
    "\n",
    "preds = []\n",
    "scores = []\n",
    "\n",
    "params = {'alpha': 6.385986356860096e-05,\n",
    "  'colsample_bytree': 0.8284784298391914,\n",
    "  'gamma': 5.114179746041194,\n",
    "  'lambda': 0.00031417893121740654,\n",
    "  'learning_rate': 0.21963622374350286,\n",
    "  'max_depth': 40,\n",
    "  'min_child_weight': 0.21215371268176095,\n",
    "  'subsample': 0.89731839369485}\n",
    "\n",
    "model_xgb_tuned = XGBClassifier(**params)\n",
    "\n",
    "#{'colsample_bytree': 0.5, 'learning_rate': 0.05, 'max_depth': 6, 'min_child_weight': 5, 'n_estimators': 100}\n",
    "model_xgb_tuned.fit(X, y)  # yves modificou aqui de (X_train, y_train) para X, y\n",
    "ypred_xgb_tunned=model_xgb_tuned.predict(X_val)\n",
    "preds.append(ypred_xgb_tunned)\n",
    "score = (f1_score(y_val, ypred_xgb_tunned))\n",
    "scores.append(score)\n",
    "print(\"XGBoost Classifier\")\n",
    "print(f\"F1:{score}\")\n",
    "\n",
    "print(classification_report(y_val, ypred_xgb_tunned))\n",
    "print(confusion_matrix(y_val, ypred_xgb_tunned))"
   ]
  },
  {
   "cell_type": "code",
   "execution_count": null,
   "id": "57407cdc",
   "metadata": {},
   "outputs": [],
   "source": []
  },
  {
   "cell_type": "code",
   "execution_count": 134,
   "id": "72773000",
   "metadata": {
    "ExecuteTime": {
     "end_time": "2023-07-15T13:43:55.916054Z",
     "start_time": "2023-07-15T13:43:55.888925Z"
    }
   },
   "outputs": [
    {
     "data": {
      "text/plain": [
       "23"
      ]
     },
     "execution_count": 134,
     "metadata": {},
     "output_type": "execute_result"
    }
   ],
   "source": [
    "X.shape[1]"
   ]
  },
  {
   "cell_type": "markdown",
   "id": "c9e43823",
   "metadata": {},
   "source": [
    "# teste"
   ]
  },
  {
   "cell_type": "code",
   "execution_count": 136,
   "id": "823ea1c7",
   "metadata": {
    "ExecuteTime": {
     "end_time": "2023-07-15T13:44:45.531616Z",
     "start_time": "2023-07-15T13:44:45.364382Z"
    }
   },
   "outputs": [],
   "source": [
    "data_test_raw = pd.read_csv('..\\\\base\\\\test.csv')"
   ]
  },
  {
   "cell_type": "code",
   "execution_count": 137,
   "id": "eb6ce962",
   "metadata": {
    "ExecuteTime": {
     "end_time": "2023-07-15T13:44:45.935619Z",
     "start_time": "2023-07-15T13:44:45.912768Z"
    }
   },
   "outputs": [],
   "source": [
    "df_teste = data_test_raw.copy()"
   ]
  },
  {
   "cell_type": "code",
   "execution_count": 138,
   "id": "9754f668",
   "metadata": {
    "ExecuteTime": {
     "end_time": "2023-07-15T13:44:46.527423Z",
     "start_time": "2023-07-15T13:44:46.493322Z"
    }
   },
   "outputs": [],
   "source": [
    "df_teste = rename_columns(df_teste)"
   ]
  },
  {
   "cell_type": "code",
   "execution_count": 139,
   "id": "2d93a9aa",
   "metadata": {
    "ExecuteTime": {
     "end_time": "2023-07-15T13:44:47.102010Z",
     "start_time": "2023-07-15T13:44:47.040327Z"
    }
   },
   "outputs": [
    {
     "data": {
      "text/html": [
       "<div>\n",
       "<style scoped>\n",
       "    .dataframe tbody tr th:only-of-type {\n",
       "        vertical-align: middle;\n",
       "    }\n",
       "\n",
       "    .dataframe tbody tr th {\n",
       "        vertical-align: top;\n",
       "    }\n",
       "\n",
       "    .dataframe thead th {\n",
       "        text-align: right;\n",
       "    }\n",
       "</style>\n",
       "<table border=\"1\" class=\"dataframe\">\n",
       "  <thead>\n",
       "    <tr style=\"text-align: right;\">\n",
       "      <th></th>\n",
       "      <th>id</th>\n",
       "      <th>gender</th>\n",
       "      <th>customer_type</th>\n",
       "      <th>age</th>\n",
       "      <th>type_of_purchase</th>\n",
       "      <th>store_size</th>\n",
       "      <th>store_distance</th>\n",
       "      <th>in_store_wifi</th>\n",
       "      <th>open/close_time_convenient</th>\n",
       "      <th>easy_of_online_shopping</th>\n",
       "      <th>store_location</th>\n",
       "      <th>toilet_cleaning</th>\n",
       "      <th>dressing_room</th>\n",
       "      <th>waiting_room</th>\n",
       "      <th>kids_entertainment</th>\n",
       "      <th>seller_service</th>\n",
       "      <th>showroom</th>\n",
       "      <th>self_store</th>\n",
       "      <th>purchase_service</th>\n",
       "      <th>store_service</th>\n",
       "      <th>cleanliness</th>\n",
       "      <th>carrier_delay_in_minutes</th>\n",
       "      <th>delivery_delay_in_minutes</th>\n",
       "    </tr>\n",
       "  </thead>\n",
       "  <tbody>\n",
       "    <tr>\n",
       "      <th>0</th>\n",
       "      <td>19556</td>\n",
       "      <td>Female</td>\n",
       "      <td>Loyal Customer</td>\n",
       "      <td>52</td>\n",
       "      <td>Gift</td>\n",
       "      <td>Medium</td>\n",
       "      <td>160</td>\n",
       "      <td>5</td>\n",
       "      <td>4</td>\n",
       "      <td>3</td>\n",
       "      <td>4</td>\n",
       "      <td>3</td>\n",
       "      <td>4</td>\n",
       "      <td>3</td>\n",
       "      <td>5</td>\n",
       "      <td>5</td>\n",
       "      <td>5</td>\n",
       "      <td>5</td>\n",
       "      <td>2</td>\n",
       "      <td>5</td>\n",
       "      <td>5</td>\n",
       "      <td>50</td>\n",
       "      <td>44.00</td>\n",
       "    </tr>\n",
       "    <tr>\n",
       "      <th>1</th>\n",
       "      <td>90035</td>\n",
       "      <td>Female</td>\n",
       "      <td>Loyal Customer</td>\n",
       "      <td>36</td>\n",
       "      <td>Gift</td>\n",
       "      <td>Large</td>\n",
       "      <td>2863</td>\n",
       "      <td>1</td>\n",
       "      <td>1</td>\n",
       "      <td>3</td>\n",
       "      <td>1</td>\n",
       "      <td>5</td>\n",
       "      <td>4</td>\n",
       "      <td>5</td>\n",
       "      <td>4</td>\n",
       "      <td>4</td>\n",
       "      <td>4</td>\n",
       "      <td>4</td>\n",
       "      <td>3</td>\n",
       "      <td>4</td>\n",
       "      <td>5</td>\n",
       "      <td>0</td>\n",
       "      <td>0.00</td>\n",
       "    </tr>\n",
       "    <tr>\n",
       "      <th>2</th>\n",
       "      <td>12360</td>\n",
       "      <td>Male</td>\n",
       "      <td>disloyal Customer</td>\n",
       "      <td>20</td>\n",
       "      <td>Gift</td>\n",
       "      <td>Medium</td>\n",
       "      <td>192</td>\n",
       "      <td>2</td>\n",
       "      <td>0</td>\n",
       "      <td>2</td>\n",
       "      <td>4</td>\n",
       "      <td>2</td>\n",
       "      <td>2</td>\n",
       "      <td>2</td>\n",
       "      <td>2</td>\n",
       "      <td>4</td>\n",
       "      <td>1</td>\n",
       "      <td>3</td>\n",
       "      <td>2</td>\n",
       "      <td>2</td>\n",
       "      <td>2</td>\n",
       "      <td>0</td>\n",
       "      <td>0.00</td>\n",
       "    </tr>\n",
       "    <tr>\n",
       "      <th>3</th>\n",
       "      <td>77959</td>\n",
       "      <td>Male</td>\n",
       "      <td>Loyal Customer</td>\n",
       "      <td>44</td>\n",
       "      <td>Gift</td>\n",
       "      <td>Large</td>\n",
       "      <td>3377</td>\n",
       "      <td>0</td>\n",
       "      <td>0</td>\n",
       "      <td>0</td>\n",
       "      <td>2</td>\n",
       "      <td>3</td>\n",
       "      <td>4</td>\n",
       "      <td>4</td>\n",
       "      <td>1</td>\n",
       "      <td>1</td>\n",
       "      <td>1</td>\n",
       "      <td>1</td>\n",
       "      <td>3</td>\n",
       "      <td>1</td>\n",
       "      <td>4</td>\n",
       "      <td>0</td>\n",
       "      <td>6.00</td>\n",
       "    </tr>\n",
       "    <tr>\n",
       "      <th>4</th>\n",
       "      <td>36875</td>\n",
       "      <td>Female</td>\n",
       "      <td>Loyal Customer</td>\n",
       "      <td>49</td>\n",
       "      <td>Gift</td>\n",
       "      <td>Medium</td>\n",
       "      <td>1182</td>\n",
       "      <td>2</td>\n",
       "      <td>3</td>\n",
       "      <td>4</td>\n",
       "      <td>3</td>\n",
       "      <td>4</td>\n",
       "      <td>1</td>\n",
       "      <td>2</td>\n",
       "      <td>2</td>\n",
       "      <td>2</td>\n",
       "      <td>2</td>\n",
       "      <td>2</td>\n",
       "      <td>4</td>\n",
       "      <td>2</td>\n",
       "      <td>4</td>\n",
       "      <td>0</td>\n",
       "      <td>20.00</td>\n",
       "    </tr>\n",
       "  </tbody>\n",
       "</table>\n",
       "</div>"
      ],
      "text/plain": [
       "      id  gender      customer_type  age type_of_purchase store_size  store_distance  in_store_wifi  open/close_time_convenient  easy_of_online_shopping  store_location  toilet_cleaning  dressing_room  waiting_room  kids_entertainment  seller_service  showroom  self_store  purchase_service  store_service  cleanliness  carrier_delay_in_minutes  delivery_delay_in_minutes\n",
       "0  19556  Female     Loyal Customer   52             Gift     Medium             160              5                           4                        3               4                3              4             3                   5               5         5           5                 2              5            5                        50                      44.00\n",
       "1  90035  Female     Loyal Customer   36             Gift      Large            2863              1                           1                        3               1                5              4             5                   4               4         4           4                 3              4            5                         0                       0.00\n",
       "2  12360    Male  disloyal Customer   20             Gift     Medium             192              2                           0                        2               4                2              2             2                   2               4         1           3                 2              2            2                         0                       0.00\n",
       "3  77959    Male     Loyal Customer   44             Gift      Large            3377              0                           0                        0               2                3              4             4                   1               1         1           1                 3              1            4                         0                       6.00\n",
       "4  36875  Female     Loyal Customer   49             Gift     Medium            1182              2                           3                        4               3                4              1             2                   2               2         2           2                 4              2            4                         0                      20.00"
      ]
     },
     "execution_count": 139,
     "metadata": {},
     "output_type": "execute_result"
    }
   ],
   "source": [
    "df_teste.head()"
   ]
  },
  {
   "cell_type": "code",
   "execution_count": 140,
   "id": "08e00539",
   "metadata": {
    "ExecuteTime": {
     "end_time": "2023-07-15T13:44:47.585852Z",
     "start_time": "2023-07-15T13:44:47.567416Z"
    }
   },
   "outputs": [
    {
     "data": {
      "text/plain": [
       "23"
      ]
     },
     "execution_count": 140,
     "metadata": {},
     "output_type": "execute_result"
    }
   ],
   "source": [
    "df_teste.shape[1]"
   ]
  },
  {
   "cell_type": "code",
   "execution_count": 141,
   "id": "5ca3c15a",
   "metadata": {
    "ExecuteTime": {
     "end_time": "2023-07-15T13:44:48.374109Z",
     "start_time": "2023-07-15T13:44:48.285440Z"
    }
   },
   "outputs": [],
   "source": [
    "le = LabelEncoder()\n",
    "df_teste['gender'] = le.fit_transform( df_teste['gender'] )\n",
    "df_teste['customer_type'] = le.fit_transform( df_teste['customer_type'] )\n",
    "df_teste['type_of_purchase'] = le.fit_transform( df_teste['type_of_purchase'] )\n",
    "df_teste['store_size'] = le.fit_transform( df_teste['store_size'] )"
   ]
  },
  {
   "cell_type": "code",
   "execution_count": 142,
   "id": "472924e7",
   "metadata": {
    "ExecuteTime": {
     "end_time": "2023-07-15T13:44:49.039807Z",
     "start_time": "2023-07-15T13:44:49.025111Z"
    }
   },
   "outputs": [],
   "source": [
    "selected_features = ['id', 'gender', 'customer_type', 'age', 'type_of_purchase',\n",
    "       'store_size', 'store_distance', 'in_store_wifi',\n",
    "       'open/close_time_convenient', 'easy_of_online_shopping',\n",
    "       'store_location', 'toilet_cleaning', 'dressing_room', 'waiting_room',\n",
    "       'kids_entertainment', 'seller_service', 'showroom', 'self_store',\n",
    "       'purchase_service', 'store_service', 'cleanliness',\n",
    "       'carrier_delay_in_minutes', 'delivery_delay_in_minutes'\n",
    "     \n",
    "]"
   ]
  },
  {
   "cell_type": "code",
   "execution_count": 143,
   "id": "8b15e1a5",
   "metadata": {
    "ExecuteTime": {
     "end_time": "2023-07-15T13:44:49.617644Z",
     "start_time": "2023-07-15T13:44:49.593621Z"
    }
   },
   "outputs": [],
   "source": [
    "X_test = df_teste[selected_features]"
   ]
  },
  {
   "cell_type": "code",
   "execution_count": 144,
   "id": "7762e24f",
   "metadata": {
    "ExecuteTime": {
     "end_time": "2023-07-15T13:44:50.161411Z",
     "start_time": "2023-07-15T13:44:50.138677Z"
    }
   },
   "outputs": [
    {
     "data": {
      "text/plain": [
       "23"
      ]
     },
     "execution_count": 144,
     "metadata": {},
     "output_type": "execute_result"
    }
   ],
   "source": [
    "X_test.shape[1]"
   ]
  },
  {
   "cell_type": "code",
   "execution_count": 145,
   "id": "bebf23f6",
   "metadata": {
    "ExecuteTime": {
     "end_time": "2023-07-15T13:44:53.741072Z",
     "start_time": "2023-07-15T13:44:53.536022Z"
    }
   },
   "outputs": [],
   "source": [
    "predicao_xgb = model_xgb_tuned.predict(X_test)"
   ]
  },
  {
   "cell_type": "code",
   "execution_count": 146,
   "id": "ffc373a3",
   "metadata": {
    "ExecuteTime": {
     "end_time": "2023-07-15T13:44:54.677335Z",
     "start_time": "2023-07-15T13:44:54.641312Z"
    }
   },
   "outputs": [
    {
     "data": {
      "text/html": [
       "<div>\n",
       "<style scoped>\n",
       "    .dataframe tbody tr th:only-of-type {\n",
       "        vertical-align: middle;\n",
       "    }\n",
       "\n",
       "    .dataframe tbody tr th {\n",
       "        vertical-align: top;\n",
       "    }\n",
       "\n",
       "    .dataframe thead th {\n",
       "        text-align: right;\n",
       "    }\n",
       "</style>\n",
       "<table border=\"1\" class=\"dataframe\">\n",
       "  <thead>\n",
       "    <tr style=\"text-align: right;\">\n",
       "      <th></th>\n",
       "      <th>id</th>\n",
       "      <th>Satisfaction</th>\n",
       "    </tr>\n",
       "  </thead>\n",
       "  <tbody>\n",
       "    <tr>\n",
       "      <th>0</th>\n",
       "      <td>19556</td>\n",
       "      <td>1</td>\n",
       "    </tr>\n",
       "    <tr>\n",
       "      <th>1</th>\n",
       "      <td>90035</td>\n",
       "      <td>1</td>\n",
       "    </tr>\n",
       "    <tr>\n",
       "      <th>2</th>\n",
       "      <td>12360</td>\n",
       "      <td>0</td>\n",
       "    </tr>\n",
       "    <tr>\n",
       "      <th>3</th>\n",
       "      <td>77959</td>\n",
       "      <td>1</td>\n",
       "    </tr>\n",
       "    <tr>\n",
       "      <th>4</th>\n",
       "      <td>36875</td>\n",
       "      <td>1</td>\n",
       "    </tr>\n",
       "  </tbody>\n",
       "</table>\n",
       "</div>"
      ],
      "text/plain": [
       "      id  Satisfaction\n",
       "0  19556             1\n",
       "1  90035             1\n",
       "2  12360             0\n",
       "3  77959             1\n",
       "4  36875             1"
      ]
     },
     "execution_count": 146,
     "metadata": {},
     "output_type": "execute_result"
    }
   ],
   "source": [
    "df_final_lr = pd.concat([df_teste.id, pd.Series(predicao_xgb, name = 'Satisfaction')], axis=1)\n",
    "\n",
    "df_final_lr.head()"
   ]
  },
  {
   "cell_type": "code",
   "execution_count": 147,
   "id": "4ae0c81e",
   "metadata": {
    "ExecuteTime": {
     "end_time": "2023-07-15T13:44:55.768299Z",
     "start_time": "2023-07-15T13:44:55.646904Z"
    }
   },
   "outputs": [],
   "source": [
    "df_final_lr.to_csv('submission1.csv', index=False) #Arquivo de submissão pronto para ser enviado."
   ]
  },
  {
   "cell_type": "code",
   "execution_count": null,
   "id": "7e796740",
   "metadata": {},
   "outputs": [],
   "source": []
  }
 ],
 "metadata": {
  "kernelspec": {
   "display_name": "Python 3 (ipykernel)",
   "language": "python",
   "name": "python3"
  },
  "language_info": {
   "codemirror_mode": {
    "name": "ipython",
    "version": 3
   },
   "file_extension": ".py",
   "mimetype": "text/x-python",
   "name": "python",
   "nbconvert_exporter": "python",
   "pygments_lexer": "ipython3",
   "version": "3.7.16"
  }
 },
 "nbformat": 4,
 "nbformat_minor": 5
}
